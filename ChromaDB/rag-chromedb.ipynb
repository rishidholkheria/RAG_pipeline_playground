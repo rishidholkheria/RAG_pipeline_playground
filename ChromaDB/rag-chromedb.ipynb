{
 "cells": [
  {
   "cell_type": "markdown",
   "id": "c37202c5",
   "metadata": {},
   "source": [
    "### RAG chatbot with ChromaDB"
   ]
  },
  {
   "cell_type": "code",
   "execution_count": 6,
   "id": "c19cfd2a",
   "metadata": {},
   "outputs": [
    {
     "data": {
      "text/plain": [
       "True"
      ]
     },
     "execution_count": 6,
     "metadata": {},
     "output_type": "execute_result"
    }
   ],
   "source": [
    "import os\n",
    "from dotenv import load_dotenv\n",
    "load_dotenv()"
   ]
  },
  {
   "cell_type": "markdown",
   "id": "dbd8a1ef",
   "metadata": {},
   "source": []
  },
  {
   "cell_type": "code",
   "execution_count": 7,
   "id": "8f080e10",
   "metadata": {},
   "outputs": [],
   "source": [
    "from langchain.text_splitter import RecursiveCharacterTextSplitter\n",
    "from langchain.document_loaders import TextLoader\n",
    "from langchain_community.document_loaders import PyPDFLoader\n",
    "\n",
    "from langchain_google_genai import ChatGoogleGenerativeAI\n",
    "from langchain_community.embeddings import HuggingFaceBgeEmbeddings\n",
    "\n",
    "from langchain_community.vectorstores import Chroma\n",
    "import numpy as np\n",
    "from typing import List\n",
    "import os\n",
    "from dotenv import load_dotenv"
   ]
  },
  {
   "cell_type": "code",
   "execution_count": 8,
   "id": "480184f3",
   "metadata": {},
   "outputs": [
    {
     "name": "stdout",
     "output_type": "stream",
     "text": [
      "Documents Loaded!!! 2 pages!\n"
     ]
    },
    {
     "data": {
      "text/plain": [
       "[Document(metadata={'producer': 'ReportLab PDF Library - www.reportlab.com', 'creator': '(unspecified)', 'creationdate': '2025-09-25T09:24:19+00:00', 'author': '(anonymous)', 'keywords': '', 'moddate': '2025-09-25T09:24:19+00:00', 'subject': '(unspecified)', 'title': '(anonymous)', 'trapped': '/False', 'source': 'latest_tech_news.pdf', 'total_pages': 2, 'page': 0, 'page_label': '1'}, page_content=\"Latest AI & Tech Industry News — Global & India (as of\\n September 25, 2025)\\nDate: September 25, 2025\\nOverview\\nThis briefing summarizes major, recent developments in artificial intelligence (AI) and the global\\ntechnology industry, plus focused coverage of important technology news from India. It pulls together\\nreporting and analysis from leading outlets and policy organizations to give you a compact, actionable\\npicture of where the sector stands today.\\n1. Major AI industry developments (global)\\n\\x7f Microsoft expanded the model choices inside Microsoft 365 Copilot by integrating Anthropic's Claude\\nmodels (Claude Sonnet 4 and Claude Opus 4.1), letting users switch between OpenAI and Anthropic\\nmodels in Copilot’s Researcher tool and Copilot Studio. This reflects a strategic diversification beyond a\\nsingle AI provider and indicates a larger industry trend toward multi-vendor AI ecosystems. (Source:\\nReuters, Sep 24, 2025).\\n\\x7f The AI ecosystem is seeing large infrastructure investments and sovereign compute initiatives: multiple\\norganizations announced new datacenter and sovereign compute projects to host frontier models on local\\nsoil for regulated uses and enterprise customers.\\n\\x7f The World Trade Organization published modeling showing that AI could increase global trade and GDP\\nsubstantially by 2040, while also warning about distributional risks that require policy action to avoid\\nwidening inequalities.\\n2. Tech industry trends and business moves (global)\\n\\x7f Layoffs and restructuring continue in parts of the tech sector: independent trackers and industry reporting\\nshow ongoing job reductions across multiple companies in 2025 even as other segments hire aggressively\\nfor AI engineering and data center operations.\\n\\x7f Major enterprises and cloud providers are diversifying AI partnerships, expanding data-center capacity,\\nand investing in GPU supply chains and AI chips. This includes activity from companies building or\\nannouncing new AI chip clusters and cloud deals.\\n3. Policy, regulation, and ethical considerations\\n\\x7f Governments and international organizations are increasingly active on AI governance: calls for binding\\ninternational action on dangerous uses of AI, national efforts for data sovereignty, and regulatory moves at\\nnational levels (e.g., environmental/permit reviews for AI data centers) are shaping deployments.\\n4. India — key tech & AI developments\\n\\x7f Accenture announced a new campus in Andhra Pradesh aiming to add roughly 12,000 jobs, part of a\\nbroader trend of global IT firms expanding local operations in India in response to shifts in U.S. H-1B visa\\npolicy and rising visa costs.\\n\\x7f Karnataka released a vision for the Mangaluru (M'luru) region to become a major tech and startup\\nhub—targeting thousands of startups, lakhs of jobs, and significant tech export growth by 2034. The plan\\nincludes an AI Data Centre Hub and infrastructure investments to decentralize technology growth beyond\\nBengaluru.\"),\n",
       " Document(metadata={'producer': 'ReportLab PDF Library - www.reportlab.com', 'creator': '(unspecified)', 'creationdate': '2025-09-25T09:24:19+00:00', 'author': '(anonymous)', 'keywords': '', 'moddate': '2025-09-25T09:24:19+00:00', 'subject': '(unspecified)', 'title': '(anonymous)', 'trapped': '/False', 'source': 'latest_tech_news.pdf', 'total_pages': 2, 'page': 1, 'page_label': '2'}, page_content='\\x7f India’s AVGC-XR (animation, VFX, gaming, comics, XR) ecosystem is receiving policy support and\\nfunding commitments, aiming to grow the country’s presence in immersive content and\\nmetaverse-adjacent industries.\\n5. What this means for practitioners & learners\\n\\x7f Demand remains strong for AI platform, data engineering, MLOps, and cloud-infrastructure\\nskills—especially those tied to GPU-scale deployments and regulatory-compliant deployments (sovereign\\ncompute, data localization).\\n\\x7f Opportunities in India are growing across enterprise AI adoption, AVGC-XR content creation, and local\\ndata-center / cloud operations—matching hiring and campus expansions by major global service\\nproviders.\\nSources (selected)\\n1. Reuters — Microsoft brings Anthropic AI models to 365 Copilot (Sep 24, 2025).\\n2. TechCrunch — comprehensive list of 2025 tech layoffs (Sep 22, 2025).\\n3. World Trade Organization analysis covered in AI summaries (reported Sep 2025).\\n4. Times of India — Accenture campus & Mangaluru vision (Sep 2025).\\n5. TechCrunch, The AI Track and other industry outlets covering AI infra and conferences (Sep 2025).\\nPrepared on: September 25, 2025\\nGenerated at: 2025-09-25 09:24:19')]"
      ]
     },
     "execution_count": 8,
     "metadata": {},
     "output_type": "execute_result"
    }
   ],
   "source": [
    "pdf_path = \"latest_tech_news.pdf\"\n",
    "\n",
    "loader = PyPDFLoader(pdf_path)\n",
    "documents = loader.load()\n",
    "\n",
    "print(f\"Documents Loaded!!! {len(documents)} pages!\")\n",
    "documents"
   ]
  },
  {
   "cell_type": "code",
   "execution_count": 9,
   "id": "558343e8",
   "metadata": {},
   "outputs": [
    {
     "name": "stdout",
     "output_type": "stream",
     "text": [
      "Created chunks ===== 10\n",
      "Doc 0's content ===== Latest AI & Tech Industry News — Global & India (as of\n",
      " September 25, 2025)\n",
      "Date: September 25, 2025\n",
      "Overview\n",
      "This briefing summarizes major, recent developments in artificial intelligence (AI) and the global\n",
      "technology industry, plus focused coverage of important technology news from India. It pulls together\n",
      "reporting and analysis from leading outlets and policy organizations to give you a compact, actionable\n",
      "picture of where the sector stands today.\n",
      "1. Major AI industry developments (global)\n"
     ]
    },
    {
     "data": {
      "text/plain": [
       "[Document(metadata={'producer': 'ReportLab PDF Library - www.reportlab.com', 'creator': '(unspecified)', 'creationdate': '2025-09-25T09:24:19+00:00', 'author': '(anonymous)', 'keywords': '', 'moddate': '2025-09-25T09:24:19+00:00', 'subject': '(unspecified)', 'title': '(anonymous)', 'trapped': '/False', 'source': 'latest_tech_news.pdf', 'total_pages': 2, 'page': 0, 'page_label': '1'}, page_content='Latest AI & Tech Industry News — Global & India (as of\\n September 25, 2025)\\nDate: September 25, 2025\\nOverview\\nThis briefing summarizes major, recent developments in artificial intelligence (AI) and the global\\ntechnology industry, plus focused coverage of important technology news from India. It pulls together\\nreporting and analysis from leading outlets and policy organizations to give you a compact, actionable\\npicture of where the sector stands today.\\n1. Major AI industry developments (global)'),\n",
       " Document(metadata={'producer': 'ReportLab PDF Library - www.reportlab.com', 'creator': '(unspecified)', 'creationdate': '2025-09-25T09:24:19+00:00', 'author': '(anonymous)', 'keywords': '', 'moddate': '2025-09-25T09:24:19+00:00', 'subject': '(unspecified)', 'title': '(anonymous)', 'trapped': '/False', 'source': 'latest_tech_news.pdf', 'total_pages': 2, 'page': 0, 'page_label': '1'}, page_content=\"picture of where the sector stands today.\\n1. Major AI industry developments (global)\\n\\x7f Microsoft expanded the model choices inside Microsoft 365 Copilot by integrating Anthropic's Claude\\nmodels (Claude Sonnet 4 and Claude Opus 4.1), letting users switch between OpenAI and Anthropic\\nmodels in Copilot’s Researcher tool and Copilot Studio. This reflects a strategic diversification beyond a\\nsingle AI provider and indicates a larger industry trend toward multi-vendor AI ecosystems. (Source:\"),\n",
       " Document(metadata={'producer': 'ReportLab PDF Library - www.reportlab.com', 'creator': '(unspecified)', 'creationdate': '2025-09-25T09:24:19+00:00', 'author': '(anonymous)', 'keywords': '', 'moddate': '2025-09-25T09:24:19+00:00', 'subject': '(unspecified)', 'title': '(anonymous)', 'trapped': '/False', 'source': 'latest_tech_news.pdf', 'total_pages': 2, 'page': 0, 'page_label': '1'}, page_content='Reuters, Sep 24, 2025).\\n\\x7f The AI ecosystem is seeing large infrastructure investments and sovereign compute initiatives: multiple\\norganizations announced new datacenter and sovereign compute projects to host frontier models on local\\nsoil for regulated uses and enterprise customers.\\n\\x7f The World Trade Organization published modeling showing that AI could increase global trade and GDP\\nsubstantially by 2040, while also warning about distributional risks that require policy action to avoid'),\n",
       " Document(metadata={'producer': 'ReportLab PDF Library - www.reportlab.com', 'creator': '(unspecified)', 'creationdate': '2025-09-25T09:24:19+00:00', 'author': '(anonymous)', 'keywords': '', 'moddate': '2025-09-25T09:24:19+00:00', 'subject': '(unspecified)', 'title': '(anonymous)', 'trapped': '/False', 'source': 'latest_tech_news.pdf', 'total_pages': 2, 'page': 0, 'page_label': '1'}, page_content='widening inequalities.\\n2. Tech industry trends and business moves (global)\\n\\x7f Layoffs and restructuring continue in parts of the tech sector: independent trackers and industry reporting\\nshow ongoing job reductions across multiple companies in 2025 even as other segments hire aggressively\\nfor AI engineering and data center operations.\\n\\x7f Major enterprises and cloud providers are diversifying AI partnerships, expanding data-center capacity,'),\n",
       " Document(metadata={'producer': 'ReportLab PDF Library - www.reportlab.com', 'creator': '(unspecified)', 'creationdate': '2025-09-25T09:24:19+00:00', 'author': '(anonymous)', 'keywords': '', 'moddate': '2025-09-25T09:24:19+00:00', 'subject': '(unspecified)', 'title': '(anonymous)', 'trapped': '/False', 'source': 'latest_tech_news.pdf', 'total_pages': 2, 'page': 0, 'page_label': '1'}, page_content='and investing in GPU supply chains and AI chips. This includes activity from companies building or\\nannouncing new AI chip clusters and cloud deals.\\n3. Policy, regulation, and ethical considerations\\n\\x7f Governments and international organizations are increasingly active on AI governance: calls for binding\\ninternational action on dangerous uses of AI, national efforts for data sovereignty, and regulatory moves at'),\n",
       " Document(metadata={'producer': 'ReportLab PDF Library - www.reportlab.com', 'creator': '(unspecified)', 'creationdate': '2025-09-25T09:24:19+00:00', 'author': '(anonymous)', 'keywords': '', 'moddate': '2025-09-25T09:24:19+00:00', 'subject': '(unspecified)', 'title': '(anonymous)', 'trapped': '/False', 'source': 'latest_tech_news.pdf', 'total_pages': 2, 'page': 0, 'page_label': '1'}, page_content=\"national levels (e.g., environmental/permit reviews for AI data centers) are shaping deployments.\\n4. India — key tech & AI developments\\n\\x7f Accenture announced a new campus in Andhra Pradesh aiming to add roughly 12,000 jobs, part of a\\nbroader trend of global IT firms expanding local operations in India in response to shifts in U.S. H-1B visa\\npolicy and rising visa costs.\\n\\x7f Karnataka released a vision for the Mangaluru (M'luru) region to become a major tech and startup\"),\n",
       " Document(metadata={'producer': 'ReportLab PDF Library - www.reportlab.com', 'creator': '(unspecified)', 'creationdate': '2025-09-25T09:24:19+00:00', 'author': '(anonymous)', 'keywords': '', 'moddate': '2025-09-25T09:24:19+00:00', 'subject': '(unspecified)', 'title': '(anonymous)', 'trapped': '/False', 'source': 'latest_tech_news.pdf', 'total_pages': 2, 'page': 0, 'page_label': '1'}, page_content=\"\\x7f Karnataka released a vision for the Mangaluru (M'luru) region to become a major tech and startup\\nhub—targeting thousands of startups, lakhs of jobs, and significant tech export growth by 2034. The plan\\nincludes an AI Data Centre Hub and infrastructure investments to decentralize technology growth beyond\\nBengaluru.\"),\n",
       " Document(metadata={'producer': 'ReportLab PDF Library - www.reportlab.com', 'creator': '(unspecified)', 'creationdate': '2025-09-25T09:24:19+00:00', 'author': '(anonymous)', 'keywords': '', 'moddate': '2025-09-25T09:24:19+00:00', 'subject': '(unspecified)', 'title': '(anonymous)', 'trapped': '/False', 'source': 'latest_tech_news.pdf', 'total_pages': 2, 'page': 1, 'page_label': '2'}, page_content='\\x7f India’s AVGC-XR (animation, VFX, gaming, comics, XR) ecosystem is receiving policy support and\\nfunding commitments, aiming to grow the country’s presence in immersive content and\\nmetaverse-adjacent industries.\\n5. What this means for practitioners & learners\\n\\x7f Demand remains strong for AI platform, data engineering, MLOps, and cloud-infrastructure\\nskills—especially those tied to GPU-scale deployments and regulatory-compliant deployments (sovereign\\ncompute, data localization).'),\n",
       " Document(metadata={'producer': 'ReportLab PDF Library - www.reportlab.com', 'creator': '(unspecified)', 'creationdate': '2025-09-25T09:24:19+00:00', 'author': '(anonymous)', 'keywords': '', 'moddate': '2025-09-25T09:24:19+00:00', 'subject': '(unspecified)', 'title': '(anonymous)', 'trapped': '/False', 'source': 'latest_tech_news.pdf', 'total_pages': 2, 'page': 1, 'page_label': '2'}, page_content='compute, data localization).\\n\\x7f Opportunities in India are growing across enterprise AI adoption, AVGC-XR content creation, and local\\ndata-center / cloud operations—matching hiring and campus expansions by major global service\\nproviders.\\nSources (selected)\\n1. Reuters — Microsoft brings Anthropic AI models to 365 Copilot (Sep 24, 2025).\\n2. TechCrunch — comprehensive list of 2025 tech layoffs (Sep 22, 2025).\\n3. World Trade Organization analysis covered in AI summaries (reported Sep 2025).'),\n",
       " Document(metadata={'producer': 'ReportLab PDF Library - www.reportlab.com', 'creator': '(unspecified)', 'creationdate': '2025-09-25T09:24:19+00:00', 'author': '(anonymous)', 'keywords': '', 'moddate': '2025-09-25T09:24:19+00:00', 'subject': '(unspecified)', 'title': '(anonymous)', 'trapped': '/False', 'source': 'latest_tech_news.pdf', 'total_pages': 2, 'page': 1, 'page_label': '2'}, page_content='3. World Trade Organization analysis covered in AI summaries (reported Sep 2025).\\n4. Times of India — Accenture campus & Mangaluru vision (Sep 2025).\\n5. TechCrunch, The AI Track and other industry outlets covering AI infra and conferences (Sep 2025).\\nPrepared on: September 25, 2025\\nGenerated at: 2025-09-25 09:24:19')]"
      ]
     },
     "execution_count": 9,
     "metadata": {},
     "output_type": "execute_result"
    }
   ],
   "source": [
    "text_splitter = RecursiveCharacterTextSplitter(\n",
    "    chunk_size=500,\n",
    "    chunk_overlap=100,\n",
    "    length_function=len,\n",
    "    separators=[\"\\n\\n\", \"\\n\", \". \", \", \", \" \", \"\"] # Heirarchy of splitters\n",
    ")\n",
    "\n",
    "docs_chunks = text_splitter.split_documents(documents)\n",
    "\n",
    "print(f\"Created chunks ===== {len(docs_chunks)}\")\n",
    "print(f\"Doc 0's content ===== {docs_chunks[0].page_content[:]}\")\n",
    "docs_chunks"
   ]
  },
  {
   "cell_type": "code",
   "execution_count": null,
   "id": "5eab2887",
   "metadata": {},
   "outputs": [
    {
     "name": "stderr",
     "output_type": "stream",
     "text": [
      "C:\\Users\\gaurav\\AppData\\Local\\Temp\\ipykernel_18812\\4142187143.py:1: LangChainDeprecationWarning: The class `HuggingFaceBgeEmbeddings` was deprecated in LangChain 0.2.2 and will be removed in 1.0. An updated version of the class exists in the :class:`~langchain-huggingface package and should be used instead. To use it run `pip install -U :class:`~langchain-huggingface` and import as `from :class:`~langchain_huggingface import HuggingFaceEmbeddings``.\n",
      "  embedding_model = HuggingFaceBgeEmbeddings(\n",
      "c:\\Practice\\RAG\\.venv\\Lib\\site-packages\\tqdm\\auto.py:21: TqdmWarning: IProgress not found. Please update jupyter and ipywidgets. See https://ipywidgets.readthedocs.io/en/stable/user_install.html\n",
      "  from .autonotebook import tqdm as notebook_tqdm\n"
     ]
    },
    {
     "name": "stdout",
     "output_type": "stream",
     "text": [
      "Vector store created with 50 vectors\n",
      "Vector store directory === ./chroma_db\n"
     ]
    }
   ],
   "source": [
    "embedding_model = HuggingFaceBgeEmbeddings(\n",
    "        model_name=\"sentence-transformers/all-MiniLM-L6-v2\"\n",
    "    )\n",
    "\n",
    "persist_directory=\"./chroma_db\"\n",
    "\n",
    "vector_store = Chroma.from_documents(\n",
    "    documents=docs_chunks,\n",
    "    embedding=embedding_model,\n",
    "    persist_directory=persist_directory,\n",
    "    collection_name=\"rag_chroma_collection\"\n",
    ")\n",
    "\n",
    "print(f\"Vector store created with {vector_store._collection.count()} vectors\")\n",
    "print(f\"Vector store directory === {persist_directory}\")\n",
    "  "
   ]
  },
  {
   "cell_type": "markdown",
   "id": "a9bce324",
   "metadata": {},
   "source": [
    "### TESTING SIMILARITY SEARCH"
   ]
  },
  {
   "cell_type": "code",
   "execution_count": 11,
   "id": "af139923",
   "metadata": {},
   "outputs": [
    {
     "name": "stdout",
     "output_type": "stream",
     "text": [
      "--------------------------\n",
      "and investing in GPU supply chains and AI chips. This includes activity from companies building or\n",
      "announcing new AI chip clusters and cloud deals.\n",
      "3. Policy, regulation, and ethical considerations\n",
      " Governments and international organizations are increasingly active on AI governance: calls for binding\n",
      "international action on dangerous uses of AI, national efforts for data sovereignty, and regulatory moves at\n",
      "--------------------------\n",
      "and investing in GPU supply chains and AI chips. This includes activity from companies building or\n",
      "announcing new AI chip clusters and cloud deals.\n",
      "3. Policy, regulation, and ethical considerations\n",
      " Governments and international organizations are increasingly active on AI governance: calls for binding\n",
      "international action on dangerous uses of AI, national efforts for data sovereignty, and regulatory moves at\n",
      "--------------------------\n",
      "and investing in GPU supply chains and AI chips. This includes activity from companies building or\n",
      "announcing new AI chip clusters and cloud deals.\n",
      "3. Policy, regulation, and ethical considerations\n",
      " Governments and international organizations are increasingly active on AI governance: calls for binding\n",
      "international action on dangerous uses of AI, national efforts for data sovereignty, and regulatory moves at\n"
     ]
    },
    {
     "data": {
      "text/plain": [
       "[Document(metadata={'total_pages': 2, 'page_label': '1', 'source': 'latest_tech_news.pdf', 'trapped': '/False', 'title': '(anonymous)', 'author': '(anonymous)', 'keywords': '', 'moddate': '2025-09-25T09:24:19+00:00', 'creationdate': '2025-09-25T09:24:19+00:00', 'creator': '(unspecified)', 'subject': '(unspecified)', 'page': 0, 'producer': 'ReportLab PDF Library - www.reportlab.com'}, page_content='and investing in GPU supply chains and AI chips. This includes activity from companies building or\\nannouncing new AI chip clusters and cloud deals.\\n3. Policy, regulation, and ethical considerations\\n\\x7f Governments and international organizations are increasingly active on AI governance: calls for binding\\ninternational action on dangerous uses of AI, national efforts for data sovereignty, and regulatory moves at'),\n",
       " Document(metadata={'creationdate': '2025-09-25T09:24:19+00:00', 'subject': '(unspecified)', 'author': '(anonymous)', 'title': '(anonymous)', 'creator': '(unspecified)', 'page': 0, 'moddate': '2025-09-25T09:24:19+00:00', 'keywords': '', 'trapped': '/False', 'page_label': '1', 'producer': 'ReportLab PDF Library - www.reportlab.com', 'source': 'latest_tech_news.pdf', 'total_pages': 2}, page_content='and investing in GPU supply chains and AI chips. This includes activity from companies building or\\nannouncing new AI chip clusters and cloud deals.\\n3. Policy, regulation, and ethical considerations\\n\\x7f Governments and international organizations are increasingly active on AI governance: calls for binding\\ninternational action on dangerous uses of AI, national efforts for data sovereignty, and regulatory moves at'),\n",
       " Document(metadata={'subject': '(unspecified)', 'creationdate': '2025-09-25T09:24:19+00:00', 'moddate': '2025-09-25T09:24:19+00:00', 'author': '(anonymous)', 'producer': 'ReportLab PDF Library - www.reportlab.com', 'trapped': '/False', 'source': 'latest_tech_news.pdf', 'total_pages': 2, 'page_label': '1', 'keywords': '', 'creator': '(unspecified)', 'page': 0, 'title': '(anonymous)'}, page_content='and investing in GPU supply chains and AI chips. This includes activity from companies building or\\nannouncing new AI chip clusters and cloud deals.\\n3. Policy, regulation, and ethical considerations\\n\\x7f Governments and international organizations are increasingly active on AI governance: calls for binding\\ninternational action on dangerous uses of AI, national efforts for data sovereignty, and regulatory moves at')]"
      ]
     },
     "execution_count": 11,
     "metadata": {},
     "output_type": "execute_result"
    }
   ],
   "source": [
    "user_query = \"Major AI developments and policies and regulatory moves\"\n",
    "\n",
    "similar_vectors = vector_store.similarity_search(user_query, k=3)\n",
    "\n",
    "\n",
    "for sv in similar_vectors:\n",
    "    print(\"--------------------------\")\n",
    "    print(sv.page_content)\n",
    " \n",
    "similar_vectors\n"
   ]
  },
  {
   "cell_type": "code",
   "execution_count": 12,
   "id": "e5793271",
   "metadata": {},
   "outputs": [
    {
     "data": {
      "text/plain": [
       "[(Document(metadata={'author': '(anonymous)', 'subject': '(unspecified)', 'title': '(anonymous)', 'total_pages': 2, 'source': 'latest_tech_news.pdf', 'producer': 'ReportLab PDF Library - www.reportlab.com', 'page_label': '1', 'creator': '(unspecified)', 'moddate': '2025-09-25T09:24:19+00:00', 'trapped': '/False', 'page': 0, 'creationdate': '2025-09-25T09:24:19+00:00', 'keywords': ''}, page_content='and investing in GPU supply chains and AI chips. This includes activity from companies building or\\nannouncing new AI chip clusters and cloud deals.\\n3. Policy, regulation, and ethical considerations\\n\\x7f Governments and international organizations are increasingly active on AI governance: calls for binding\\ninternational action on dangerous uses of AI, national efforts for data sovereignty, and regulatory moves at'),\n",
       "  0.6018039931144111),\n",
       " (Document(metadata={'trapped': '/False', 'keywords': '', 'producer': 'ReportLab PDF Library - www.reportlab.com', 'source': 'latest_tech_news.pdf', 'creator': '(unspecified)', 'moddate': '2025-09-25T09:24:19+00:00', 'author': '(anonymous)', 'page': 0, 'total_pages': 2, 'title': '(anonymous)', 'creationdate': '2025-09-25T09:24:19+00:00', 'subject': '(unspecified)', 'page_label': '1'}, page_content='and investing in GPU supply chains and AI chips. This includes activity from companies building or\\nannouncing new AI chip clusters and cloud deals.\\n3. Policy, regulation, and ethical considerations\\n\\x7f Governments and international organizations are increasingly active on AI governance: calls for binding\\ninternational action on dangerous uses of AI, national efforts for data sovereignty, and regulatory moves at'),\n",
       "  0.6018039931144111),\n",
       " (Document(metadata={'title': '(anonymous)', 'producer': 'ReportLab PDF Library - www.reportlab.com', 'author': '(anonymous)', 'source': 'latest_tech_news.pdf', 'subject': '(unspecified)', 'page_label': '1', 'moddate': '2025-09-25T09:24:19+00:00', 'creationdate': '2025-09-25T09:24:19+00:00', 'trapped': '/False', 'keywords': '', 'page': 0, 'creator': '(unspecified)', 'total_pages': 2}, page_content='and investing in GPU supply chains and AI chips. This includes activity from companies building or\\nannouncing new AI chip clusters and cloud deals.\\n3. Policy, regulation, and ethical considerations\\n\\x7f Governments and international organizations are increasingly active on AI governance: calls for binding\\ninternational action on dangerous uses of AI, national efforts for data sovereignty, and regulatory moves at'),\n",
       "  0.6018039931144111)]"
      ]
     },
     "execution_count": 12,
     "metadata": {},
     "output_type": "execute_result"
    }
   ],
   "source": [
    "user_query = \"Major AI developments and policies and regulatory moves\"\n",
    "\n",
    "similar_vectors = vector_store.similarity_search_with_relevance_scores(user_query, k=3)\n",
    "similar_vectors"
   ]
  },
  {
   "cell_type": "markdown",
   "id": "c61a2e39",
   "metadata": {},
   "source": [
    "ChromaDB by default uses L2 Distance (Euclidean distance)\n",
    "\n",
    "- Lower scores = More similar\n",
    "- Score of 0 = Identical\n",
    "- Usual Range = 0 to 2 (can be higher as well)\n",
    "\n",
    "\n",
    "Cosine similarity \n",
    "- Higher scores = More similar\n",
    "- Range = -1 to 1 (1 is identical)"
   ]
  },
  {
   "cell_type": "code",
   "execution_count": 13,
   "id": "6a433b3d",
   "metadata": {},
   "outputs": [
    {
     "name": "stdout",
     "output_type": "stream",
     "text": [
      "content='The capital of India is **New Delhi**.' additional_kwargs={} response_metadata={'prompt_feedback': {'block_reason': 0, 'safety_ratings': []}, 'finish_reason': 'STOP', 'model_name': 'gemini-2.5-flash', 'safety_ratings': []} id='run--8f63908a-5721-47ef-91d1-74b4ca93a753-0' usage_metadata={'input_tokens': 6, 'output_tokens': 26, 'total_tokens': 32, 'input_token_details': {'cache_read': 0}, 'output_token_details': {'reasoning': 17}}\n"
     ]
    }
   ],
   "source": [
    "llm = ChatGoogleGenerativeAI(\n",
    "    model=\"gemini-2.5-flash\",\n",
    "    google_api_key=os.getenv(\"GOOGLE_API_KEY\")\n",
    ")\n",
    "print(llm.invoke(\"Capital of India is?\"))"
   ]
  },
  {
   "cell_type": "markdown",
   "id": "2a7b3f8b",
   "metadata": {},
   "source": [
    "### Modern RAG Chain"
   ]
  },
  {
   "cell_type": "code",
   "execution_count": 14,
   "id": "ea951052",
   "metadata": {},
   "outputs": [],
   "source": [
    "from langchain.chains import create_retrieval_chain\n",
    "from langchain_core.prompts import ChatPromptTemplate\n",
    "from langchain.chains.combine_documents import create_stuff_documents_chain"
   ]
  },
  {
   "cell_type": "markdown",
   "id": "30de7976",
   "metadata": {},
   "source": [
    "In order to use vector store in RAG reteival chain, we need to convert vector store into a retriever"
   ]
  },
  {
   "cell_type": "code",
   "execution_count": 15,
   "id": "ba023d6a",
   "metadata": {},
   "outputs": [
    {
     "data": {
      "text/plain": [
       "VectorStoreRetriever(tags=['Chroma', 'HuggingFaceBgeEmbeddings'], vectorstore=<langchain_community.vectorstores.chroma.Chroma object at 0x000001E7BC529910>, search_kwargs={'k': 3})"
      ]
     },
     "execution_count": 15,
     "metadata": {},
     "output_type": "execute_result"
    }
   ],
   "source": [
    "retriever=vector_store.as_retriever(\n",
    "    search_kwargs={\"k\":3}  ## Retrieve top 3 relevant chunks \n",
    ")\n",
    "retriever"
   ]
  },
  {
   "cell_type": "code",
   "execution_count": 16,
   "id": "6acf5097",
   "metadata": {},
   "outputs": [],
   "source": [
    "### Creating prompt template\n",
    "from langchain_core.prompts import ChatPromptTemplate\n",
    "system_prompt=\"\"\"\n",
    "You are an assistant for question-answering tasks. \n",
    "Use the following information as context to answer the questions. \n",
    "If you don't know the answer, do not hallicunate instead just say you don't know. \n",
    "Use three sentences maximum to answer the question and keep answers crisp and concise.\n",
    "\n",
    "Context: {context}\n",
    "\"\"\"\n",
    "\n",
    "prompt = ChatPromptTemplate.from_messages([\n",
    "    (\"system\", system_prompt),\n",
    "    (\"human\", \"{input}\")\n",
    "])"
   ]
  },
  {
   "cell_type": "code",
   "execution_count": 17,
   "id": "fdba2237",
   "metadata": {},
   "outputs": [
    {
     "data": {
      "text/plain": [
       "ChatPromptTemplate(input_variables=['context', 'input'], input_types={}, partial_variables={}, messages=[SystemMessagePromptTemplate(prompt=PromptTemplate(input_variables=['context'], input_types={}, partial_variables={}, template=\"\\nYou are an assistant for question-answering tasks. \\nUse the following information as context to answer the questions. \\nIf you don't know the answer, do not hallicunate instead just say you don't know. \\nUse three sentences maximum to answer the question and keep answers crisp and concise.\\n\\nContext: {context}\\n\"), additional_kwargs={}), HumanMessagePromptTemplate(prompt=PromptTemplate(input_variables=['input'], input_types={}, partial_variables={}, template='{input}'), additional_kwargs={})])"
      ]
     },
     "execution_count": 17,
     "metadata": {},
     "output_type": "execute_result"
    }
   ],
   "source": [
    "prompt"
   ]
  },
  {
   "cell_type": "code",
   "execution_count": 18,
   "id": "7f5e7e2e",
   "metadata": {},
   "outputs": [
    {
     "data": {
      "text/plain": [
       "RunnableBinding(bound=RunnableBinding(bound=RunnableAssign(mapper={\n",
       "  context: RunnableLambda(format_docs)\n",
       "}), kwargs={}, config={'run_name': 'format_inputs'}, config_factories=[])\n",
       "| ChatPromptTemplate(input_variables=['context', 'input'], input_types={}, partial_variables={}, messages=[SystemMessagePromptTemplate(prompt=PromptTemplate(input_variables=['context'], input_types={}, partial_variables={}, template=\"\\nYou are an assistant for question-answering tasks. \\nUse the following information as context to answer the questions. \\nIf you don't know the answer, do not hallicunate instead just say you don't know. \\nUse three sentences maximum to answer the question and keep answers crisp and concise.\\n\\nContext: {context}\\n\"), additional_kwargs={}), HumanMessagePromptTemplate(prompt=PromptTemplate(input_variables=['input'], input_types={}, partial_variables={}, template='{input}'), additional_kwargs={})])\n",
       "| ChatGoogleGenerativeAI(model='models/gemini-2.5-flash', google_api_key=SecretStr('**********'), client=<google.ai.generativelanguage_v1beta.services.generative_service.client.GenerativeServiceClient object at 0x000001E7BC589040>, default_metadata=(), model_kwargs={})\n",
       "| StrOutputParser(), kwargs={}, config={'run_name': 'stuff_documents_chain'}, config_factories=[])"
      ]
     },
     "execution_count": 18,
     "metadata": {},
     "output_type": "execute_result"
    }
   ],
   "source": [
    "### DOCUMENT CHAIN\n",
    "from langchain.chains.combine_documents import create_stuff_documents_chain\n",
    "document_chain=create_stuff_documents_chain(llm, prompt)\n",
    "document_chain"
   ]
  },
  {
   "cell_type": "code",
   "execution_count": 19,
   "id": "3e6e550f",
   "metadata": {},
   "outputs": [
    {
     "data": {
      "text/plain": [
       "RunnableBinding(bound=RunnableAssign(mapper={\n",
       "  context: RunnableBinding(bound=RunnableLambda(lambda x: x['input'])\n",
       "           | VectorStoreRetriever(tags=['Chroma', 'HuggingFaceBgeEmbeddings'], vectorstore=<langchain_community.vectorstores.chroma.Chroma object at 0x000001E7BC529910>, search_kwargs={'k': 3}), kwargs={}, config={'run_name': 'retrieve_documents'}, config_factories=[])\n",
       "})\n",
       "| RunnableAssign(mapper={\n",
       "    answer: RunnableBinding(bound=RunnableBinding(bound=RunnableAssign(mapper={\n",
       "              context: RunnableLambda(format_docs)\n",
       "            }), kwargs={}, config={'run_name': 'format_inputs'}, config_factories=[])\n",
       "            | ChatPromptTemplate(input_variables=['context', 'input'], input_types={}, partial_variables={}, messages=[SystemMessagePromptTemplate(prompt=PromptTemplate(input_variables=['context'], input_types={}, partial_variables={}, template=\"\\nYou are an assistant for question-answering tasks. \\nUse the following information as context to answer the questions. \\nIf you don't know the answer, do not hallicunate instead just say you don't know. \\nUse three sentences maximum to answer the question and keep answers crisp and concise.\\n\\nContext: {context}\\n\"), additional_kwargs={}), HumanMessagePromptTemplate(prompt=PromptTemplate(input_variables=['input'], input_types={}, partial_variables={}, template='{input}'), additional_kwargs={})])\n",
       "            | ChatGoogleGenerativeAI(model='models/gemini-2.5-flash', google_api_key=SecretStr('**********'), client=<google.ai.generativelanguage_v1beta.services.generative_service.client.GenerativeServiceClient object at 0x000001E7BC589040>, default_metadata=(), model_kwargs={})\n",
       "            | StrOutputParser(), kwargs={}, config={'run_name': 'stuff_documents_chain'}, config_factories=[])\n",
       "  }), kwargs={}, config={'run_name': 'retrieval_chain'}, config_factories=[])"
      ]
     },
     "execution_count": 19,
     "metadata": {},
     "output_type": "execute_result"
    }
   ],
   "source": [
    "rag_chain=create_retrieval_chain(retriever, document_chain)\n",
    "rag_chain"
   ]
  },
  {
   "cell_type": "code",
   "execution_count": 24,
   "id": "0f169f40",
   "metadata": {},
   "outputs": [
    {
     "data": {
      "text/plain": [
       "{'input': 'Latest trending tech news related to AI',\n",
       " 'context': [Document(metadata={'producer': 'ReportLab PDF Library - www.reportlab.com', 'moddate': '2025-09-25T09:24:19+00:00', 'subject': '(unspecified)', 'page_label': '1', 'trapped': '/False', 'creationdate': '2025-09-25T09:24:19+00:00', 'title': '(anonymous)', 'page': 0, 'keywords': '', 'source': 'latest_tech_news.pdf', 'total_pages': 2, 'author': '(anonymous)', 'creator': '(unspecified)'}, page_content='Latest AI & Tech Industry News — Global & India (as of\\n September 25, 2025)\\nDate: September 25, 2025\\nOverview\\nThis briefing summarizes major, recent developments in artificial intelligence (AI) and the global\\ntechnology industry, plus focused coverage of important technology news from India. It pulls together\\nreporting and analysis from leading outlets and policy organizations to give you a compact, actionable\\npicture of where the sector stands today.\\n1. Major AI industry developments (global)'),\n",
       "  Document(metadata={'creator': '(unspecified)', 'keywords': '', 'page_label': '1', 'trapped': '/False', 'page': 0, 'creationdate': '2025-09-25T09:24:19+00:00', 'subject': '(unspecified)', 'total_pages': 2, 'source': 'latest_tech_news.pdf', 'title': '(anonymous)', 'moddate': '2025-09-25T09:24:19+00:00', 'author': '(anonymous)', 'producer': 'ReportLab PDF Library - www.reportlab.com'}, page_content='Latest AI & Tech Industry News — Global & India (as of\\n September 25, 2025)\\nDate: September 25, 2025\\nOverview\\nThis briefing summarizes major, recent developments in artificial intelligence (AI) and the global\\ntechnology industry, plus focused coverage of important technology news from India. It pulls together\\nreporting and analysis from leading outlets and policy organizations to give you a compact, actionable\\npicture of where the sector stands today.\\n1. Major AI industry developments (global)'),\n",
       "  Document(metadata={'author': '(anonymous)', 'producer': 'ReportLab PDF Library - www.reportlab.com', 'moddate': '2025-09-25T09:24:19+00:00', 'subject': '(unspecified)', 'creationdate': '2025-09-25T09:24:19+00:00', 'creator': '(unspecified)', 'page': 0, 'page_label': '1', 'keywords': '', 'total_pages': 2, 'title': '(anonymous)', 'source': 'latest_tech_news.pdf', 'trapped': '/False'}, page_content='Latest AI & Tech Industry News — Global & India (as of\\n September 25, 2025)\\nDate: September 25, 2025\\nOverview\\nThis briefing summarizes major, recent developments in artificial intelligence (AI) and the global\\ntechnology industry, plus focused coverage of important technology news from India. It pulls together\\nreporting and analysis from leading outlets and policy organizations to give you a compact, actionable\\npicture of where the sector stands today.\\n1. Major AI industry developments (global)')],\n",
       " 'answer': 'This briefing summarizes major, recent developments in artificial intelligence (AI) and the global technology industry. It also includes focused coverage of important technology news from India. However, the provided context only gives an overview and does not list specific trending tech news related to AI.'}"
      ]
     },
     "execution_count": 24,
     "metadata": {},
     "output_type": "execute_result"
    }
   ],
   "source": [
    "response = rag_chain.invoke({\"input\":\"Latest trending tech news related to AI\"})\n",
    "response"
   ]
  },
  {
   "cell_type": "code",
   "execution_count": 23,
   "id": "eb7a5a42",
   "metadata": {},
   "outputs": [
    {
     "data": {
      "text/plain": [
       "'This briefing summarizes major, recent developments in artificial intelligence (AI) and the global technology industry. It also includes focused coverage of important technology news from India. The information is current as of September 25, 2025.'"
      ]
     },
     "execution_count": 23,
     "metadata": {},
     "output_type": "execute_result"
    }
   ],
   "source": [
    "response['answer']"
   ]
  },
  {
   "cell_type": "code",
   "execution_count": null,
   "id": "1a53a8b2",
   "metadata": {},
   "outputs": [],
   "source": []
  }
 ],
 "metadata": {
  "kernelspec": {
   "display_name": "RAG (3.12.8)",
   "language": "python",
   "name": "python3"
  },
  "language_info": {
   "codemirror_mode": {
    "name": "ipython",
    "version": 3
   },
   "file_extension": ".py",
   "mimetype": "text/x-python",
   "name": "python",
   "nbconvert_exporter": "python",
   "pygments_lexer": "ipython3",
   "version": "3.12.8"
  }
 },
 "nbformat": 4,
 "nbformat_minor": 5
}
